{
 "cells": [
  {
   "cell_type": "markdown",
   "id": "73080fa1",
   "metadata": {
    "papermill": {
     "duration": 0.012519,
     "end_time": "2024-01-17T09:42:05.055235",
     "exception": false,
     "start_time": "2024-01-17T09:42:05.042716",
     "status": "completed"
    },
    "tags": []
   },
   "source": [
    "**This notebook is an exercise in the [Pandas](https://www.kaggle.com/learn/pandas) course.  You can reference the tutorial at [this link](https://www.kaggle.com/residentmario/grouping-and-sorting).**\n",
    "\n",
    "---\n"
   ]
  },
  {
   "cell_type": "markdown",
   "id": "781de0f4",
   "metadata": {
    "papermill": {
     "duration": 0.009473,
     "end_time": "2024-01-17T09:42:05.074837",
     "exception": false,
     "start_time": "2024-01-17T09:42:05.065364",
     "status": "completed"
    },
    "tags": []
   },
   "source": [
    "# Introduction\n",
    "\n",
    "In these exercises we'll apply groupwise analysis to our dataset.\n",
    "\n",
    "Run the code cell below to load the data before running the exercises."
   ]
  },
  {
   "cell_type": "code",
   "execution_count": 1,
   "id": "33ad1f34",
   "metadata": {
    "execution": {
     "iopub.execute_input": "2024-01-17T09:42:05.096860Z",
     "iopub.status.busy": "2024-01-17T09:42:05.096376Z",
     "iopub.status.idle": "2024-01-17T09:42:09.446620Z",
     "shell.execute_reply": "2024-01-17T09:42:09.444627Z"
    },
    "papermill": {
     "duration": 4.365405,
     "end_time": "2024-01-17T09:42:09.450027",
     "exception": false,
     "start_time": "2024-01-17T09:42:05.084622",
     "status": "completed"
    },
    "tags": []
   },
   "outputs": [
    {
     "name": "stdout",
     "output_type": "stream",
     "text": [
      "Setup complete.\n"
     ]
    }
   ],
   "source": [
    "import pandas as pd\n",
    "\n",
    "reviews = pd.read_csv(\"../input/wine-reviews/winemag-data-130k-v2.csv\", index_col=0)\n",
    "#pd.set_option(\"display.max_rows\", 5)\n",
    "\n",
    "from learntools.core import binder; binder.bind(globals())\n",
    "from learntools.pandas.grouping_and_sorting import *\n",
    "print(\"Setup complete.\")"
   ]
  },
  {
   "cell_type": "code",
   "execution_count": 2,
   "id": "ec10fc9d",
   "metadata": {
    "execution": {
     "iopub.execute_input": "2024-01-17T09:42:09.472987Z",
     "iopub.status.busy": "2024-01-17T09:42:09.472449Z",
     "iopub.status.idle": "2024-01-17T09:42:09.501379Z",
     "shell.execute_reply": "2024-01-17T09:42:09.500046Z"
    },
    "papermill": {
     "duration": 0.044613,
     "end_time": "2024-01-17T09:42:09.504519",
     "exception": false,
     "start_time": "2024-01-17T09:42:09.459906",
     "status": "completed"
    },
    "tags": []
   },
   "outputs": [
    {
     "data": {
      "text/html": [
       "<div>\n",
       "<style scoped>\n",
       "    .dataframe tbody tr th:only-of-type {\n",
       "        vertical-align: middle;\n",
       "    }\n",
       "\n",
       "    .dataframe tbody tr th {\n",
       "        vertical-align: top;\n",
       "    }\n",
       "\n",
       "    .dataframe thead th {\n",
       "        text-align: right;\n",
       "    }\n",
       "</style>\n",
       "<table border=\"1\" class=\"dataframe\">\n",
       "  <thead>\n",
       "    <tr style=\"text-align: right;\">\n",
       "      <th></th>\n",
       "      <th>country</th>\n",
       "      <th>description</th>\n",
       "      <th>designation</th>\n",
       "      <th>points</th>\n",
       "      <th>price</th>\n",
       "      <th>province</th>\n",
       "      <th>region_1</th>\n",
       "      <th>region_2</th>\n",
       "      <th>taster_name</th>\n",
       "      <th>taster_twitter_handle</th>\n",
       "      <th>title</th>\n",
       "      <th>variety</th>\n",
       "      <th>winery</th>\n",
       "    </tr>\n",
       "  </thead>\n",
       "  <tbody>\n",
       "    <tr>\n",
       "      <th>0</th>\n",
       "      <td>Italy</td>\n",
       "      <td>Aromas include tropical fruit, broom, brimston...</td>\n",
       "      <td>Vulkà Bianco</td>\n",
       "      <td>87</td>\n",
       "      <td>NaN</td>\n",
       "      <td>Sicily &amp; Sardinia</td>\n",
       "      <td>Etna</td>\n",
       "      <td>NaN</td>\n",
       "      <td>Kerin O’Keefe</td>\n",
       "      <td>@kerinokeefe</td>\n",
       "      <td>Nicosia 2013 Vulkà Bianco  (Etna)</td>\n",
       "      <td>White Blend</td>\n",
       "      <td>Nicosia</td>\n",
       "    </tr>\n",
       "    <tr>\n",
       "      <th>1</th>\n",
       "      <td>Portugal</td>\n",
       "      <td>This is ripe and fruity, a wine that is smooth...</td>\n",
       "      <td>Avidagos</td>\n",
       "      <td>87</td>\n",
       "      <td>15.0</td>\n",
       "      <td>Douro</td>\n",
       "      <td>NaN</td>\n",
       "      <td>NaN</td>\n",
       "      <td>Roger Voss</td>\n",
       "      <td>@vossroger</td>\n",
       "      <td>Quinta dos Avidagos 2011 Avidagos Red (Douro)</td>\n",
       "      <td>Portuguese Red</td>\n",
       "      <td>Quinta dos Avidagos</td>\n",
       "    </tr>\n",
       "    <tr>\n",
       "      <th>2</th>\n",
       "      <td>US</td>\n",
       "      <td>Tart and snappy, the flavors of lime flesh and...</td>\n",
       "      <td>NaN</td>\n",
       "      <td>87</td>\n",
       "      <td>14.0</td>\n",
       "      <td>Oregon</td>\n",
       "      <td>Willamette Valley</td>\n",
       "      <td>Willamette Valley</td>\n",
       "      <td>Paul Gregutt</td>\n",
       "      <td>@paulgwine</td>\n",
       "      <td>Rainstorm 2013 Pinot Gris (Willamette Valley)</td>\n",
       "      <td>Pinot Gris</td>\n",
       "      <td>Rainstorm</td>\n",
       "    </tr>\n",
       "    <tr>\n",
       "      <th>3</th>\n",
       "      <td>US</td>\n",
       "      <td>Pineapple rind, lemon pith and orange blossom ...</td>\n",
       "      <td>Reserve Late Harvest</td>\n",
       "      <td>87</td>\n",
       "      <td>13.0</td>\n",
       "      <td>Michigan</td>\n",
       "      <td>Lake Michigan Shore</td>\n",
       "      <td>NaN</td>\n",
       "      <td>Alexander Peartree</td>\n",
       "      <td>NaN</td>\n",
       "      <td>St. Julian 2013 Reserve Late Harvest Riesling ...</td>\n",
       "      <td>Riesling</td>\n",
       "      <td>St. Julian</td>\n",
       "    </tr>\n",
       "    <tr>\n",
       "      <th>4</th>\n",
       "      <td>US</td>\n",
       "      <td>Much like the regular bottling from 2012, this...</td>\n",
       "      <td>Vintner's Reserve Wild Child Block</td>\n",
       "      <td>87</td>\n",
       "      <td>65.0</td>\n",
       "      <td>Oregon</td>\n",
       "      <td>Willamette Valley</td>\n",
       "      <td>Willamette Valley</td>\n",
       "      <td>Paul Gregutt</td>\n",
       "      <td>@paulgwine</td>\n",
       "      <td>Sweet Cheeks 2012 Vintner's Reserve Wild Child...</td>\n",
       "      <td>Pinot Noir</td>\n",
       "      <td>Sweet Cheeks</td>\n",
       "    </tr>\n",
       "  </tbody>\n",
       "</table>\n",
       "</div>"
      ],
      "text/plain": [
       "    country                                        description  \\\n",
       "0     Italy  Aromas include tropical fruit, broom, brimston...   \n",
       "1  Portugal  This is ripe and fruity, a wine that is smooth...   \n",
       "2        US  Tart and snappy, the flavors of lime flesh and...   \n",
       "3        US  Pineapple rind, lemon pith and orange blossom ...   \n",
       "4        US  Much like the regular bottling from 2012, this...   \n",
       "\n",
       "                          designation  points  price           province  \\\n",
       "0                        Vulkà Bianco      87    NaN  Sicily & Sardinia   \n",
       "1                            Avidagos      87   15.0              Douro   \n",
       "2                                 NaN      87   14.0             Oregon   \n",
       "3                Reserve Late Harvest      87   13.0           Michigan   \n",
       "4  Vintner's Reserve Wild Child Block      87   65.0             Oregon   \n",
       "\n",
       "              region_1           region_2         taster_name  \\\n",
       "0                 Etna                NaN       Kerin O’Keefe   \n",
       "1                  NaN                NaN          Roger Voss   \n",
       "2    Willamette Valley  Willamette Valley        Paul Gregutt   \n",
       "3  Lake Michigan Shore                NaN  Alexander Peartree   \n",
       "4    Willamette Valley  Willamette Valley        Paul Gregutt   \n",
       "\n",
       "  taster_twitter_handle                                              title  \\\n",
       "0          @kerinokeefe                  Nicosia 2013 Vulkà Bianco  (Etna)   \n",
       "1            @vossroger      Quinta dos Avidagos 2011 Avidagos Red (Douro)   \n",
       "2           @paulgwine       Rainstorm 2013 Pinot Gris (Willamette Valley)   \n",
       "3                   NaN  St. Julian 2013 Reserve Late Harvest Riesling ...   \n",
       "4           @paulgwine   Sweet Cheeks 2012 Vintner's Reserve Wild Child...   \n",
       "\n",
       "          variety               winery  \n",
       "0     White Blend              Nicosia  \n",
       "1  Portuguese Red  Quinta dos Avidagos  \n",
       "2      Pinot Gris            Rainstorm  \n",
       "3        Riesling           St. Julian  \n",
       "4      Pinot Noir         Sweet Cheeks  "
      ]
     },
     "execution_count": 2,
     "metadata": {},
     "output_type": "execute_result"
    }
   ],
   "source": [
    "reviews.head(5)"
   ]
  },
  {
   "cell_type": "markdown",
   "id": "7659b015",
   "metadata": {
    "papermill": {
     "duration": 0.010021,
     "end_time": "2024-01-17T09:42:09.524921",
     "exception": false,
     "start_time": "2024-01-17T09:42:09.514900",
     "status": "completed"
    },
    "tags": []
   },
   "source": [
    "# Exercises"
   ]
  },
  {
   "cell_type": "markdown",
   "id": "06110d1d",
   "metadata": {
    "papermill": {
     "duration": 0.010067,
     "end_time": "2024-01-17T09:42:09.545380",
     "exception": false,
     "start_time": "2024-01-17T09:42:09.535313",
     "status": "completed"
    },
    "tags": []
   },
   "source": [
    "## 1.\n",
    "Who are the most common wine reviewers in the dataset? Create a `Series` whose index is the `taster_twitter_handle` category from the dataset, and whose values count how many reviews each person wrote."
   ]
  },
  {
   "cell_type": "code",
   "execution_count": 3,
   "id": "e00e0850",
   "metadata": {
    "execution": {
     "iopub.execute_input": "2024-01-17T09:42:09.569901Z",
     "iopub.status.busy": "2024-01-17T09:42:09.568887Z",
     "iopub.status.idle": "2024-01-17T09:42:09.622543Z",
     "shell.execute_reply": "2024-01-17T09:42:09.621265Z"
    },
    "papermill": {
     "duration": 0.069211,
     "end_time": "2024-01-17T09:42:09.625050",
     "exception": false,
     "start_time": "2024-01-17T09:42:09.555839",
     "status": "completed"
    },
    "tags": []
   },
   "outputs": [
    {
     "data": {
      "application/javascript": [
       "parent.postMessage({\"jupyterEvent\": \"custom.exercise_interaction\", \"data\": {\"outcomeType\": 1, \"valueTowardsCompletion\": 0.16666666666666666, \"interactionType\": 1, \"questionType\": 1, \"questionId\": \"1_ReviewsWritten\", \"learnToolsVersion\": \"0.3.4\", \"failureMessage\": \"\", \"exceptionClass\": \"\", \"trace\": \"\"}}, \"*\")"
      ],
      "text/plain": [
       "<IPython.core.display.Javascript object>"
      ]
     },
     "metadata": {},
     "output_type": "display_data"
    },
    {
     "data": {
      "text/markdown": [
       "<span style=\"color:#33cc33\">Correct:</span> \n",
       "\n",
       "\n",
       "```python\n",
       "reviews_written = reviews.groupby('taster_twitter_handle').size()\n",
       "```\n",
       "or\n",
       "```python\n",
       "reviews_written = reviews.groupby('taster_twitter_handle').taster_twitter_handle.count()\n",
       "```\n"
      ],
      "text/plain": [
       "Correct: \n",
       "\n",
       "\n",
       "```python\n",
       "reviews_written = reviews.groupby('taster_twitter_handle').size()\n",
       "```\n",
       "or\n",
       "```python\n",
       "reviews_written = reviews.groupby('taster_twitter_handle').taster_twitter_handle.count()\n",
       "```"
      ]
     },
     "metadata": {},
     "output_type": "display_data"
    }
   ],
   "source": [
    "# Your code here\n",
    "reviews_written = reviews.groupby('taster_twitter_handle').title.count()\n",
    "\n",
    "# Check your answer\n",
    "q1.check()"
   ]
  },
  {
   "cell_type": "code",
   "execution_count": 4,
   "id": "0fdf028c",
   "metadata": {
    "execution": {
     "iopub.execute_input": "2024-01-17T09:42:09.649097Z",
     "iopub.status.busy": "2024-01-17T09:42:09.648559Z",
     "iopub.status.idle": "2024-01-17T09:42:09.654008Z",
     "shell.execute_reply": "2024-01-17T09:42:09.652738Z"
    },
    "papermill": {
     "duration": 0.021078,
     "end_time": "2024-01-17T09:42:09.656772",
     "exception": false,
     "start_time": "2024-01-17T09:42:09.635694",
     "status": "completed"
    },
    "tags": []
   },
   "outputs": [],
   "source": [
    "#q1.hint()\n",
    "#q1.solution()"
   ]
  },
  {
   "cell_type": "markdown",
   "id": "744a37e2",
   "metadata": {
    "papermill": {
     "duration": 0.011284,
     "end_time": "2024-01-17T09:42:09.678924",
     "exception": false,
     "start_time": "2024-01-17T09:42:09.667640",
     "status": "completed"
    },
    "tags": []
   },
   "source": [
    "## 2.\n",
    "What is the best wine I can buy for a given amount of money? Create a `Series` whose index is wine prices and whose values is the maximum number of points a wine costing that much was given in a review. Sort the values by price, ascending (so that `4.0` dollars is at the top and `3300.0` dollars is at the bottom)."
   ]
  },
  {
   "cell_type": "code",
   "execution_count": 5,
   "id": "62f8de4e",
   "metadata": {
    "execution": {
     "iopub.execute_input": "2024-01-17T09:42:09.706475Z",
     "iopub.status.busy": "2024-01-17T09:42:09.705852Z",
     "iopub.status.idle": "2024-01-17T09:42:09.722620Z",
     "shell.execute_reply": "2024-01-17T09:42:09.721528Z"
    },
    "papermill": {
     "duration": 0.033213,
     "end_time": "2024-01-17T09:42:09.725746",
     "exception": false,
     "start_time": "2024-01-17T09:42:09.692533",
     "status": "completed"
    },
    "tags": []
   },
   "outputs": [
    {
     "data": {
      "application/javascript": [
       "parent.postMessage({\"jupyterEvent\": \"custom.exercise_interaction\", \"data\": {\"outcomeType\": 1, \"valueTowardsCompletion\": 0.16666666666666666, \"interactionType\": 1, \"questionType\": 1, \"questionId\": \"2_BestRatingPerPrice\", \"learnToolsVersion\": \"0.3.4\", \"failureMessage\": \"\", \"exceptionClass\": \"\", \"trace\": \"\"}}, \"*\")"
      ],
      "text/plain": [
       "<IPython.core.display.Javascript object>"
      ]
     },
     "metadata": {},
     "output_type": "display_data"
    },
    {
     "data": {
      "text/markdown": [
       "<span style=\"color:#33cc33\">Correct</span>"
      ],
      "text/plain": [
       "Correct"
      ]
     },
     "metadata": {},
     "output_type": "display_data"
    }
   ],
   "source": [
    "best_rating_per_price = reviews.groupby(['price'])['points'].max()\n",
    "# Check your answer\n",
    "q2.check()"
   ]
  },
  {
   "cell_type": "code",
   "execution_count": 6,
   "id": "7da6eefd",
   "metadata": {
    "execution": {
     "iopub.execute_input": "2024-01-17T09:42:09.751464Z",
     "iopub.status.busy": "2024-01-17T09:42:09.750133Z",
     "iopub.status.idle": "2024-01-17T09:42:09.756416Z",
     "shell.execute_reply": "2024-01-17T09:42:09.755034Z"
    },
    "papermill": {
     "duration": 0.022815,
     "end_time": "2024-01-17T09:42:09.759446",
     "exception": false,
     "start_time": "2024-01-17T09:42:09.736631",
     "status": "completed"
    },
    "tags": []
   },
   "outputs": [],
   "source": [
    "#q2.hint()\n",
    "#q2.solution()"
   ]
  },
  {
   "cell_type": "markdown",
   "id": "04643237",
   "metadata": {
    "papermill": {
     "duration": 0.011086,
     "end_time": "2024-01-17T09:42:09.782237",
     "exception": false,
     "start_time": "2024-01-17T09:42:09.771151",
     "status": "completed"
    },
    "tags": []
   },
   "source": [
    "## 3.\n",
    "What are the minimum and maximum prices for each `variety` of wine? Create a `DataFrame` whose index is the `variety` category from the dataset and whose values are the `min` and `max` values thereof."
   ]
  },
  {
   "cell_type": "code",
   "execution_count": 7,
   "id": "2f97d646",
   "metadata": {
    "execution": {
     "iopub.execute_input": "2024-01-17T09:42:09.808576Z",
     "iopub.status.busy": "2024-01-17T09:42:09.808066Z",
     "iopub.status.idle": "2024-01-17T09:42:09.855798Z",
     "shell.execute_reply": "2024-01-17T09:42:09.854445Z"
    },
    "papermill": {
     "duration": 0.065863,
     "end_time": "2024-01-17T09:42:09.859294",
     "exception": false,
     "start_time": "2024-01-17T09:42:09.793431",
     "status": "completed"
    },
    "tags": []
   },
   "outputs": [
    {
     "data": {
      "application/javascript": [
       "parent.postMessage({\"jupyterEvent\": \"custom.exercise_interaction\", \"data\": {\"outcomeType\": 1, \"valueTowardsCompletion\": 0.16666666666666666, \"interactionType\": 1, \"questionType\": 1, \"questionId\": \"3_PriceExtremes\", \"learnToolsVersion\": \"0.3.4\", \"failureMessage\": \"\", \"exceptionClass\": \"\", \"trace\": \"\"}}, \"*\")"
      ],
      "text/plain": [
       "<IPython.core.display.Javascript object>"
      ]
     },
     "metadata": {},
     "output_type": "display_data"
    },
    {
     "data": {
      "text/markdown": [
       "<span style=\"color:#33cc33\">Correct</span>"
      ],
      "text/plain": [
       "Correct"
      ]
     },
     "metadata": {},
     "output_type": "display_data"
    }
   ],
   "source": [
    "price_extremes = reviews.groupby(['variety']).price.agg([min,max])\n",
    "\n",
    "# Check your answer\n",
    "q3.check()"
   ]
  },
  {
   "cell_type": "code",
   "execution_count": 8,
   "id": "05944596",
   "metadata": {
    "execution": {
     "iopub.execute_input": "2024-01-17T09:42:09.887315Z",
     "iopub.status.busy": "2024-01-17T09:42:09.886759Z",
     "iopub.status.idle": "2024-01-17T09:42:09.892487Z",
     "shell.execute_reply": "2024-01-17T09:42:09.891037Z"
    },
    "papermill": {
     "duration": 0.022817,
     "end_time": "2024-01-17T09:42:09.895422",
     "exception": false,
     "start_time": "2024-01-17T09:42:09.872605",
     "status": "completed"
    },
    "tags": []
   },
   "outputs": [],
   "source": [
    "#q3.hint()\n",
    "#q3.solution()"
   ]
  },
  {
   "cell_type": "markdown",
   "id": "4851db95",
   "metadata": {
    "papermill": {
     "duration": 0.011493,
     "end_time": "2024-01-17T09:42:09.918751",
     "exception": false,
     "start_time": "2024-01-17T09:42:09.907258",
     "status": "completed"
    },
    "tags": []
   },
   "source": [
    "## 4.\n",
    "What are the most expensive wine varieties? Create a variable `sorted_varieties` containing a copy of the dataframe from the previous question where varieties are sorted in descending order based on minimum price, then on maximum price (to break ties)."
   ]
  },
  {
   "cell_type": "code",
   "execution_count": 9,
   "id": "54ff3754",
   "metadata": {
    "execution": {
     "iopub.execute_input": "2024-01-17T09:42:09.944562Z",
     "iopub.status.busy": "2024-01-17T09:42:09.944090Z",
     "iopub.status.idle": "2024-01-17T09:42:09.961620Z",
     "shell.execute_reply": "2024-01-17T09:42:09.959955Z"
    },
    "papermill": {
     "duration": 0.03471,
     "end_time": "2024-01-17T09:42:09.965145",
     "exception": false,
     "start_time": "2024-01-17T09:42:09.930435",
     "status": "completed"
    },
    "tags": []
   },
   "outputs": [
    {
     "data": {
      "application/javascript": [
       "parent.postMessage({\"jupyterEvent\": \"custom.exercise_interaction\", \"data\": {\"outcomeType\": 1, \"valueTowardsCompletion\": 0.16666666666666666, \"interactionType\": 1, \"questionType\": 1, \"questionId\": \"4_SortedVarieties\", \"learnToolsVersion\": \"0.3.4\", \"failureMessage\": \"\", \"exceptionClass\": \"\", \"trace\": \"\"}}, \"*\")"
      ],
      "text/plain": [
       "<IPython.core.display.Javascript object>"
      ]
     },
     "metadata": {},
     "output_type": "display_data"
    },
    {
     "data": {
      "text/markdown": [
       "<span style=\"color:#33cc33\">Correct</span>"
      ],
      "text/plain": [
       "Correct"
      ]
     },
     "metadata": {},
     "output_type": "display_data"
    }
   ],
   "source": [
    "sorted_varieties = price_extremes.sort_values(by=['min','max'],ascending=False)\n",
    "\n",
    "# Check your answer\n",
    "q4.check()"
   ]
  },
  {
   "cell_type": "code",
   "execution_count": 10,
   "id": "71302386",
   "metadata": {
    "execution": {
     "iopub.execute_input": "2024-01-17T09:42:09.992815Z",
     "iopub.status.busy": "2024-01-17T09:42:09.992350Z",
     "iopub.status.idle": "2024-01-17T09:42:10.007554Z",
     "shell.execute_reply": "2024-01-17T09:42:10.006087Z"
    },
    "papermill": {
     "duration": 0.032825,
     "end_time": "2024-01-17T09:42:10.010402",
     "exception": false,
     "start_time": "2024-01-17T09:42:09.977577",
     "status": "completed"
    },
    "tags": []
   },
   "outputs": [
    {
     "data": {
      "text/html": [
       "<div>\n",
       "<style scoped>\n",
       "    .dataframe tbody tr th:only-of-type {\n",
       "        vertical-align: middle;\n",
       "    }\n",
       "\n",
       "    .dataframe tbody tr th {\n",
       "        vertical-align: top;\n",
       "    }\n",
       "\n",
       "    .dataframe thead th {\n",
       "        text-align: right;\n",
       "    }\n",
       "</style>\n",
       "<table border=\"1\" class=\"dataframe\">\n",
       "  <thead>\n",
       "    <tr style=\"text-align: right;\">\n",
       "      <th></th>\n",
       "      <th>min</th>\n",
       "      <th>max</th>\n",
       "    </tr>\n",
       "    <tr>\n",
       "      <th>variety</th>\n",
       "      <th></th>\n",
       "      <th></th>\n",
       "    </tr>\n",
       "  </thead>\n",
       "  <tbody>\n",
       "    <tr>\n",
       "      <th>Ramisco</th>\n",
       "      <td>495.0</td>\n",
       "      <td>495.0</td>\n",
       "    </tr>\n",
       "    <tr>\n",
       "      <th>Terrantez</th>\n",
       "      <td>236.0</td>\n",
       "      <td>236.0</td>\n",
       "    </tr>\n",
       "    <tr>\n",
       "      <th>Francisa</th>\n",
       "      <td>160.0</td>\n",
       "      <td>160.0</td>\n",
       "    </tr>\n",
       "    <tr>\n",
       "      <th>Rosenmuskateller</th>\n",
       "      <td>150.0</td>\n",
       "      <td>150.0</td>\n",
       "    </tr>\n",
       "    <tr>\n",
       "      <th>Tinta Negra Mole</th>\n",
       "      <td>112.0</td>\n",
       "      <td>112.0</td>\n",
       "    </tr>\n",
       "  </tbody>\n",
       "</table>\n",
       "</div>"
      ],
      "text/plain": [
       "                    min    max\n",
       "variety                       \n",
       "Ramisco           495.0  495.0\n",
       "Terrantez         236.0  236.0\n",
       "Francisa          160.0  160.0\n",
       "Rosenmuskateller  150.0  150.0\n",
       "Tinta Negra Mole  112.0  112.0"
      ]
     },
     "execution_count": 10,
     "metadata": {},
     "output_type": "execute_result"
    }
   ],
   "source": [
    "sorted_varieties.head()"
   ]
  },
  {
   "cell_type": "code",
   "execution_count": 11,
   "id": "09465034",
   "metadata": {
    "execution": {
     "iopub.execute_input": "2024-01-17T09:42:10.037138Z",
     "iopub.status.busy": "2024-01-17T09:42:10.036579Z",
     "iopub.status.idle": "2024-01-17T09:42:10.042309Z",
     "shell.execute_reply": "2024-01-17T09:42:10.040952Z"
    },
    "papermill": {
     "duration": 0.023077,
     "end_time": "2024-01-17T09:42:10.045485",
     "exception": false,
     "start_time": "2024-01-17T09:42:10.022408",
     "status": "completed"
    },
    "tags": []
   },
   "outputs": [],
   "source": [
    "#q4.hint()\n",
    "#q4.solution()"
   ]
  },
  {
   "cell_type": "markdown",
   "id": "9e3bfdea",
   "metadata": {
    "papermill": {
     "duration": 0.012332,
     "end_time": "2024-01-17T09:42:10.071343",
     "exception": false,
     "start_time": "2024-01-17T09:42:10.059011",
     "status": "completed"
    },
    "tags": []
   },
   "source": [
    "## 5.\n",
    "Create a `Series` whose index is reviewers and whose values is the average review score given out by that reviewer. Hint: you will need the `taster_name` and `points` columns."
   ]
  },
  {
   "cell_type": "code",
   "execution_count": 12,
   "id": "c94cee28",
   "metadata": {
    "execution": {
     "iopub.execute_input": "2024-01-17T09:42:10.098154Z",
     "iopub.status.busy": "2024-01-17T09:42:10.097602Z",
     "iopub.status.idle": "2024-01-17T09:42:10.137655Z",
     "shell.execute_reply": "2024-01-17T09:42:10.136550Z"
    },
    "papermill": {
     "duration": 0.056897,
     "end_time": "2024-01-17T09:42:10.140443",
     "exception": false,
     "start_time": "2024-01-17T09:42:10.083546",
     "status": "completed"
    },
    "tags": []
   },
   "outputs": [
    {
     "data": {
      "application/javascript": [
       "parent.postMessage({\"jupyterEvent\": \"custom.exercise_interaction\", \"data\": {\"outcomeType\": 1, \"valueTowardsCompletion\": 0.16666666666666666, \"interactionType\": 1, \"questionType\": 1, \"questionId\": \"5_ReviewerMeanRatings\", \"learnToolsVersion\": \"0.3.4\", \"failureMessage\": \"\", \"exceptionClass\": \"\", \"trace\": \"\"}}, \"*\")"
      ],
      "text/plain": [
       "<IPython.core.display.Javascript object>"
      ]
     },
     "metadata": {},
     "output_type": "display_data"
    },
    {
     "data": {
      "text/markdown": [
       "<span style=\"color:#33cc33\">Correct</span>"
      ],
      "text/plain": [
       "Correct"
      ]
     },
     "metadata": {},
     "output_type": "display_data"
    }
   ],
   "source": [
    "reviewer_mean_ratings = reviews.groupby(['taster_name']).points.mean()\n",
    "\n",
    "# Check your answer\n",
    "q5.check()"
   ]
  },
  {
   "cell_type": "code",
   "execution_count": 13,
   "id": "635bb70f",
   "metadata": {
    "execution": {
     "iopub.execute_input": "2024-01-17T09:42:10.168114Z",
     "iopub.status.busy": "2024-01-17T09:42:10.167580Z",
     "iopub.status.idle": "2024-01-17T09:42:10.173094Z",
     "shell.execute_reply": "2024-01-17T09:42:10.171622Z"
    },
    "papermill": {
     "duration": 0.022675,
     "end_time": "2024-01-17T09:42:10.175903",
     "exception": false,
     "start_time": "2024-01-17T09:42:10.153228",
     "status": "completed"
    },
    "tags": []
   },
   "outputs": [],
   "source": [
    "#q5.hint()\n",
    "#q5.solution()"
   ]
  },
  {
   "cell_type": "code",
   "execution_count": 14,
   "id": "34681d29",
   "metadata": {
    "execution": {
     "iopub.execute_input": "2024-01-17T09:42:10.203222Z",
     "iopub.status.busy": "2024-01-17T09:42:10.202674Z",
     "iopub.status.idle": "2024-01-17T09:42:10.213490Z",
     "shell.execute_reply": "2024-01-17T09:42:10.212412Z"
    },
    "papermill": {
     "duration": 0.032151,
     "end_time": "2024-01-17T09:42:10.220680",
     "exception": false,
     "start_time": "2024-01-17T09:42:10.188529",
     "status": "completed"
    },
    "tags": []
   },
   "outputs": [
    {
     "data": {
      "text/plain": [
       "taster_name\n",
       "Alexander Peartree    85.855422\n",
       "Anna Lee C. Iijima    88.415629\n",
       "Anne Krebiehl MW      90.562551\n",
       "Carrie Dykes          86.395683\n",
       "Christina Pickard     87.833333\n",
       "Fiona Adams           86.888889\n",
       "Jeff Jenssen          88.319756\n",
       "Jim Gordon            88.626287\n",
       "Joe Czerwinski        88.536235\n",
       "Kerin O’Keefe         88.867947\n",
       "Lauren Buzzeo         87.739510\n",
       "Matt Kettmann         90.008686\n",
       "Michael Schachner     86.907493\n",
       "Mike DeSimone         89.101167\n",
       "Paul Gregutt          89.082564\n",
       "Roger Voss            88.708003\n",
       "Sean P. Sullivan      88.755739\n",
       "Susan Kostrzewa       86.609217\n",
       "Virginie Boone        89.213379\n",
       "Name: points, dtype: float64"
      ]
     },
     "execution_count": 14,
     "metadata": {},
     "output_type": "execute_result"
    }
   ],
   "source": [
    "reviewer_mean_ratings"
   ]
  },
  {
   "cell_type": "markdown",
   "id": "e6389231",
   "metadata": {
    "papermill": {
     "duration": 0.015121,
     "end_time": "2024-01-17T09:42:10.254957",
     "exception": false,
     "start_time": "2024-01-17T09:42:10.239836",
     "status": "completed"
    },
    "tags": []
   },
   "source": [
    "Are there significant differences in the average scores assigned by the various reviewers? Run the cell below to use the `describe()` method to see a summary of the range of values."
   ]
  },
  {
   "cell_type": "code",
   "execution_count": 15,
   "id": "35ad455f",
   "metadata": {
    "execution": {
     "iopub.execute_input": "2024-01-17T09:42:10.287170Z",
     "iopub.status.busy": "2024-01-17T09:42:10.286605Z",
     "iopub.status.idle": "2024-01-17T09:42:10.302466Z",
     "shell.execute_reply": "2024-01-17T09:42:10.300773Z"
    },
    "papermill": {
     "duration": 0.03746,
     "end_time": "2024-01-17T09:42:10.305732",
     "exception": false,
     "start_time": "2024-01-17T09:42:10.268272",
     "status": "completed"
    },
    "tags": []
   },
   "outputs": [
    {
     "data": {
      "text/plain": [
       "count    19.000000\n",
       "mean     88.233026\n",
       "std       1.243610\n",
       "min      85.855422\n",
       "25%      87.323501\n",
       "50%      88.536235\n",
       "75%      88.975256\n",
       "max      90.562551\n",
       "Name: points, dtype: float64"
      ]
     },
     "execution_count": 15,
     "metadata": {},
     "output_type": "execute_result"
    }
   ],
   "source": [
    "reviewer_mean_ratings.describe()"
   ]
  },
  {
   "cell_type": "markdown",
   "id": "7782d060",
   "metadata": {
    "papermill": {
     "duration": 0.01633,
     "end_time": "2024-01-17T09:42:10.335771",
     "exception": false,
     "start_time": "2024-01-17T09:42:10.319441",
     "status": "completed"
    },
    "tags": []
   },
   "source": [
    "## 6.\n",
    "What combination of countries and varieties are most common? Create a `Series` whose index is a `MultiIndex`of `{country, variety}` pairs. For example, a pinot noir produced in the US should map to `{\"US\", \"Pinot Noir\"}`. Sort the values in the `Series` in descending order based on wine count."
   ]
  },
  {
   "cell_type": "code",
   "execution_count": 16,
   "id": "2e4acb1a",
   "metadata": {
    "execution": {
     "iopub.execute_input": "2024-01-17T09:42:10.373025Z",
     "iopub.status.busy": "2024-01-17T09:42:10.372357Z",
     "iopub.status.idle": "2024-01-17T09:42:10.479949Z",
     "shell.execute_reply": "2024-01-17T09:42:10.478265Z"
    },
    "papermill": {
     "duration": 0.132467,
     "end_time": "2024-01-17T09:42:10.484417",
     "exception": false,
     "start_time": "2024-01-17T09:42:10.351950",
     "status": "completed"
    },
    "tags": []
   },
   "outputs": [
    {
     "data": {
      "application/javascript": [
       "parent.postMessage({\"jupyterEvent\": \"custom.exercise_interaction\", \"data\": {\"outcomeType\": 1, \"valueTowardsCompletion\": 0.16666666666666666, \"interactionType\": 1, \"questionType\": 1, \"questionId\": \"6_GroupbyCountryVariety\", \"learnToolsVersion\": \"0.3.4\", \"failureMessage\": \"\", \"exceptionClass\": \"\", \"trace\": \"\"}}, \"*\")"
      ],
      "text/plain": [
       "<IPython.core.display.Javascript object>"
      ]
     },
     "metadata": {},
     "output_type": "display_data"
    },
    {
     "data": {
      "text/markdown": [
       "<span style=\"color:#33cc33\">Correct</span>"
      ],
      "text/plain": [
       "Correct"
      ]
     },
     "metadata": {},
     "output_type": "display_data"
    }
   ],
   "source": [
    "country_variety_counts = reviews.groupby(['country','variety']).variety.count().sort_values(ascending=False)\n",
    "# Check your answer\n",
    "q6.check()"
   ]
  },
  {
   "cell_type": "code",
   "execution_count": 17,
   "id": "a2695723",
   "metadata": {
    "execution": {
     "iopub.execute_input": "2024-01-17T09:42:10.513320Z",
     "iopub.status.busy": "2024-01-17T09:42:10.512787Z",
     "iopub.status.idle": "2024-01-17T09:42:10.522860Z",
     "shell.execute_reply": "2024-01-17T09:42:10.521614Z"
    },
    "papermill": {
     "duration": 0.028201,
     "end_time": "2024-01-17T09:42:10.526046",
     "exception": false,
     "start_time": "2024-01-17T09:42:10.497845",
     "status": "completed"
    },
    "tags": []
   },
   "outputs": [
    {
     "data": {
      "text/plain": [
       "country  variety                 \n",
       "US       Pinot Noir                  9885\n",
       "         Cabernet Sauvignon          7315\n",
       "         Chardonnay                  6801\n",
       "France   Bordeaux-style Red Blend    4725\n",
       "Italy    Red Blend                   3624\n",
       "Name: variety, dtype: int64"
      ]
     },
     "execution_count": 17,
     "metadata": {},
     "output_type": "execute_result"
    }
   ],
   "source": [
    "country_variety_counts.head(5)"
   ]
  },
  {
   "cell_type": "code",
   "execution_count": 18,
   "id": "ae31ba85",
   "metadata": {
    "execution": {
     "iopub.execute_input": "2024-01-17T09:42:10.555310Z",
     "iopub.status.busy": "2024-01-17T09:42:10.554510Z",
     "iopub.status.idle": "2024-01-17T09:42:10.559405Z",
     "shell.execute_reply": "2024-01-17T09:42:10.558375Z"
    },
    "papermill": {
     "duration": 0.024014,
     "end_time": "2024-01-17T09:42:10.563212",
     "exception": false,
     "start_time": "2024-01-17T09:42:10.539198",
     "status": "completed"
    },
    "tags": []
   },
   "outputs": [],
   "source": [
    "#q6.hint()\n",
    "#q6.solution()"
   ]
  },
  {
   "cell_type": "markdown",
   "id": "9fb62526",
   "metadata": {
    "papermill": {
     "duration": 0.112667,
     "end_time": "2024-01-17T09:42:10.693927",
     "exception": false,
     "start_time": "2024-01-17T09:42:10.581260",
     "status": "completed"
    },
    "tags": []
   },
   "source": [
    "# Keep going\n",
    "\n",
    "Move on to the [**data types and missing data**](https://www.kaggle.com/residentmario/data-types-and-missing-values)."
   ]
  },
  {
   "cell_type": "markdown",
   "id": "acd207d1",
   "metadata": {
    "papermill": {
     "duration": 0.014084,
     "end_time": "2024-01-17T09:42:10.721505",
     "exception": false,
     "start_time": "2024-01-17T09:42:10.707421",
     "status": "completed"
    },
    "tags": []
   },
   "source": [
    "---\n",
    "\n",
    "\n",
    "\n",
    "\n",
    "*Have questions or comments? Visit the [course discussion forum](https://www.kaggle.com/learn/pandas/discussion) to chat with other learners.*"
   ]
  }
 ],
 "metadata": {
  "kaggle": {
   "accelerator": "none",
   "dataSources": [
    {
     "datasetId": 655,
     "sourceId": 1252,
     "sourceType": "datasetVersion"
    },
    {
     "datasetId": 2321,
     "sourceId": 3919,
     "sourceType": "datasetVersion"
    },
    {
     "datasetId": 2894,
     "sourceId": 4877,
     "sourceType": "datasetVersion"
    },
    {
     "datasetId": 3491,
     "sourceId": 5624,
     "sourceType": "datasetVersion"
    },
    {
     "datasetId": 1442,
     "sourceId": 8172,
     "sourceType": "datasetVersion"
    },
    {
     "datasetId": 9366,
     "sourceId": 13206,
     "sourceType": "datasetVersion"
    },
    {
     "datasetId": 179555,
     "sourceId": 403916,
     "sourceType": "datasetVersion"
    },
    {
     "datasetId": 4549,
     "sourceId": 466349,
     "sourceType": "datasetVersion"
    },
    {
     "datasetId": 2478,
     "sourceId": 1151655,
     "sourceType": "datasetVersion"
    },
    {
     "datasetId": 10128,
     "sourceId": 5438389,
     "sourceType": "datasetVersion"
    }
   ],
   "isGpuEnabled": false,
   "isInternetEnabled": false,
   "language": "python",
   "sourceType": "notebook"
  },
  "kernelspec": {
   "display_name": "Python 3",
   "language": "python",
   "name": "python3"
  },
  "language_info": {
   "codemirror_mode": {
    "name": "ipython",
    "version": 3
   },
   "file_extension": ".py",
   "mimetype": "text/x-python",
   "name": "python",
   "nbconvert_exporter": "python",
   "pygments_lexer": "ipython3",
   "version": "3.10.12"
  },
  "papermill": {
   "default_parameters": {},
   "duration": 9.792529,
   "end_time": "2024-01-17T09:42:11.358669",
   "environment_variables": {},
   "exception": null,
   "input_path": "__notebook__.ipynb",
   "output_path": "__notebook__.ipynb",
   "parameters": {},
   "start_time": "2024-01-17T09:42:01.566140",
   "version": "2.4.0"
  }
 },
 "nbformat": 4,
 "nbformat_minor": 5
}
