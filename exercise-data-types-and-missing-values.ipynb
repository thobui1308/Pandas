{
 "cells": [
  {
   "cell_type": "markdown",
   "id": "cb4d9ace",
   "metadata": {
    "papermill": {
     "duration": 0.007263,
     "end_time": "2024-01-17T09:43:31.200974",
     "exception": false,
     "start_time": "2024-01-17T09:43:31.193711",
     "status": "completed"
    },
    "tags": []
   },
   "source": [
    "**This notebook is an exercise in the [Pandas](https://www.kaggle.com/learn/pandas) course.  You can reference the tutorial at [this link](https://www.kaggle.com/residentmario/data-types-and-missing-values).**\n",
    "\n",
    "---\n"
   ]
  },
  {
   "cell_type": "markdown",
   "id": "74650b91",
   "metadata": {
    "papermill": {
     "duration": 0.006175,
     "end_time": "2024-01-17T09:43:31.214172",
     "exception": false,
     "start_time": "2024-01-17T09:43:31.207997",
     "status": "completed"
    },
    "tags": []
   },
   "source": [
    "# Introduction\n",
    "\n",
    "Run the following cell to load your data and some utility functions."
   ]
  },
  {
   "cell_type": "code",
   "execution_count": 1,
   "id": "b2bf1439",
   "metadata": {
    "execution": {
     "iopub.execute_input": "2024-01-17T09:43:31.229685Z",
     "iopub.status.busy": "2024-01-17T09:43:31.229091Z",
     "iopub.status.idle": "2024-01-17T09:43:35.354618Z",
     "shell.execute_reply": "2024-01-17T09:43:35.353380Z"
    },
    "papermill": {
     "duration": 4.137061,
     "end_time": "2024-01-17T09:43:35.357749",
     "exception": false,
     "start_time": "2024-01-17T09:43:31.220688",
     "status": "completed"
    },
    "tags": []
   },
   "outputs": [
    {
     "name": "stdout",
     "output_type": "stream",
     "text": [
      "Setup complete.\n"
     ]
    }
   ],
   "source": [
    "import pandas as pd\n",
    "\n",
    "reviews = pd.read_csv(\"../input/wine-reviews/winemag-data-130k-v2.csv\", index_col=0)\n",
    "\n",
    "from learntools.core import binder; binder.bind(globals())\n",
    "from learntools.pandas.data_types_and_missing_data import *\n",
    "print(\"Setup complete.\")"
   ]
  },
  {
   "cell_type": "markdown",
   "id": "d76d243b",
   "metadata": {
    "papermill": {
     "duration": 0.006861,
     "end_time": "2024-01-17T09:43:35.371658",
     "exception": false,
     "start_time": "2024-01-17T09:43:35.364797",
     "status": "completed"
    },
    "tags": []
   },
   "source": [
    "# Exercises"
   ]
  },
  {
   "cell_type": "markdown",
   "id": "de86b074",
   "metadata": {
    "papermill": {
     "duration": 0.006344,
     "end_time": "2024-01-17T09:43:35.384821",
     "exception": false,
     "start_time": "2024-01-17T09:43:35.378477",
     "status": "completed"
    },
    "tags": []
   },
   "source": [
    "## 1. \n",
    "What is the data type of the `points` column in the dataset?"
   ]
  },
  {
   "cell_type": "code",
   "execution_count": 2,
   "id": "f6cbfcdd",
   "metadata": {
    "execution": {
     "iopub.execute_input": "2024-01-17T09:43:35.401406Z",
     "iopub.status.busy": "2024-01-17T09:43:35.400606Z",
     "iopub.status.idle": "2024-01-17T09:43:35.410845Z",
     "shell.execute_reply": "2024-01-17T09:43:35.410037Z"
    },
    "papermill": {
     "duration": 0.021703,
     "end_time": "2024-01-17T09:43:35.413216",
     "exception": false,
     "start_time": "2024-01-17T09:43:35.391513",
     "status": "completed"
    },
    "tags": []
   },
   "outputs": [
    {
     "data": {
      "application/javascript": [
       "parent.postMessage({\"jupyterEvent\": \"custom.exercise_interaction\", \"data\": {\"outcomeType\": 1, \"valueTowardsCompletion\": 0.25, \"interactionType\": 1, \"questionType\": 1, \"questionId\": \"1_PointsDtype\", \"learnToolsVersion\": \"0.3.4\", \"failureMessage\": \"\", \"exceptionClass\": \"\", \"trace\": \"\"}}, \"*\")"
      ],
      "text/plain": [
       "<IPython.core.display.Javascript object>"
      ]
     },
     "metadata": {},
     "output_type": "display_data"
    },
    {
     "data": {
      "text/markdown": [
       "<span style=\"color:#33cc33\">Correct</span>"
      ],
      "text/plain": [
       "Correct"
      ]
     },
     "metadata": {},
     "output_type": "display_data"
    }
   ],
   "source": [
    "# Your code here\n",
    "dtype = reviews.points.dtype\n",
    "\n",
    "# Check your answer\n",
    "q1.check()"
   ]
  },
  {
   "cell_type": "code",
   "execution_count": 3,
   "id": "dda6c4dc",
   "metadata": {
    "execution": {
     "iopub.execute_input": "2024-01-17T09:43:35.431054Z",
     "iopub.status.busy": "2024-01-17T09:43:35.430114Z",
     "iopub.status.idle": "2024-01-17T09:43:35.434465Z",
     "shell.execute_reply": "2024-01-17T09:43:35.433624Z"
    },
    "papermill": {
     "duration": 0.016658,
     "end_time": "2024-01-17T09:43:35.437000",
     "exception": false,
     "start_time": "2024-01-17T09:43:35.420342",
     "status": "completed"
    },
    "tags": []
   },
   "outputs": [],
   "source": [
    "#q1.hint()\n",
    "#q1.solution()"
   ]
  },
  {
   "cell_type": "markdown",
   "id": "def80497",
   "metadata": {
    "papermill": {
     "duration": 0.006962,
     "end_time": "2024-01-17T09:43:35.451519",
     "exception": false,
     "start_time": "2024-01-17T09:43:35.444557",
     "status": "completed"
    },
    "tags": []
   },
   "source": [
    "## 2. \n",
    "Create a Series from entries in the `points` column, but convert the entries to strings. Hint: strings are `str` in native Python."
   ]
  },
  {
   "cell_type": "code",
   "execution_count": 4,
   "id": "a4492f76",
   "metadata": {
    "execution": {
     "iopub.execute_input": "2024-01-17T09:43:35.468288Z",
     "iopub.status.busy": "2024-01-17T09:43:35.467719Z",
     "iopub.status.idle": "2024-01-17T09:43:35.578886Z",
     "shell.execute_reply": "2024-01-17T09:43:35.577329Z"
    },
    "papermill": {
     "duration": 0.123202,
     "end_time": "2024-01-17T09:43:35.581940",
     "exception": false,
     "start_time": "2024-01-17T09:43:35.458738",
     "status": "completed"
    },
    "tags": []
   },
   "outputs": [
    {
     "data": {
      "application/javascript": [
       "parent.postMessage({\"jupyterEvent\": \"custom.exercise_interaction\", \"data\": {\"outcomeType\": 1, \"valueTowardsCompletion\": 0.25, \"interactionType\": 1, \"questionType\": 1, \"questionId\": \"2_StrPoints\", \"learnToolsVersion\": \"0.3.4\", \"failureMessage\": \"\", \"exceptionClass\": \"\", \"trace\": \"\"}}, \"*\")"
      ],
      "text/plain": [
       "<IPython.core.display.Javascript object>"
      ]
     },
     "metadata": {},
     "output_type": "display_data"
    },
    {
     "data": {
      "text/markdown": [
       "<span style=\"color:#33cc33\">Correct</span>"
      ],
      "text/plain": [
       "Correct"
      ]
     },
     "metadata": {},
     "output_type": "display_data"
    }
   ],
   "source": [
    "point_strings = reviews.points.astype('str')\n",
    "\n",
    "# Check your answer\n",
    "q2.check()"
   ]
  },
  {
   "cell_type": "code",
   "execution_count": 5,
   "id": "2f2cbbb9",
   "metadata": {
    "execution": {
     "iopub.execute_input": "2024-01-17T09:43:35.600253Z",
     "iopub.status.busy": "2024-01-17T09:43:35.599703Z",
     "iopub.status.idle": "2024-01-17T09:43:35.606397Z",
     "shell.execute_reply": "2024-01-17T09:43:35.604673Z"
    },
    "papermill": {
     "duration": 0.019936,
     "end_time": "2024-01-17T09:43:35.609356",
     "exception": false,
     "start_time": "2024-01-17T09:43:35.589420",
     "status": "completed"
    },
    "tags": []
   },
   "outputs": [],
   "source": [
    "#q2.hint()\n",
    "#q2.solution()"
   ]
  },
  {
   "cell_type": "markdown",
   "id": "325ccc72",
   "metadata": {
    "papermill": {
     "duration": 0.007639,
     "end_time": "2024-01-17T09:43:35.624344",
     "exception": false,
     "start_time": "2024-01-17T09:43:35.616705",
     "status": "completed"
    },
    "tags": []
   },
   "source": [
    "## 3.\n",
    "Sometimes the price column is null. How many reviews in the dataset are missing a price?"
   ]
  },
  {
   "cell_type": "code",
   "execution_count": 6,
   "id": "5d6f62a2",
   "metadata": {
    "execution": {
     "iopub.execute_input": "2024-01-17T09:43:35.641775Z",
     "iopub.status.busy": "2024-01-17T09:43:35.641282Z",
     "iopub.status.idle": "2024-01-17T09:43:35.653630Z",
     "shell.execute_reply": "2024-01-17T09:43:35.652175Z"
    },
    "papermill": {
     "duration": 0.02469,
     "end_time": "2024-01-17T09:43:35.656286",
     "exception": false,
     "start_time": "2024-01-17T09:43:35.631596",
     "status": "completed"
    },
    "tags": []
   },
   "outputs": [
    {
     "data": {
      "application/javascript": [
       "parent.postMessage({\"jupyterEvent\": \"custom.exercise_interaction\", \"data\": {\"outcomeType\": 1, \"valueTowardsCompletion\": 0.25, \"interactionType\": 1, \"questionType\": 1, \"questionId\": \"3_CountMissingPrices\", \"learnToolsVersion\": \"0.3.4\", \"failureMessage\": \"\", \"exceptionClass\": \"\", \"trace\": \"\"}}, \"*\")"
      ],
      "text/plain": [
       "<IPython.core.display.Javascript object>"
      ]
     },
     "metadata": {},
     "output_type": "display_data"
    },
    {
     "data": {
      "text/markdown": [
       "<span style=\"color:#33cc33\">Correct</span>"
      ],
      "text/plain": [
       "Correct"
      ]
     },
     "metadata": {},
     "output_type": "display_data"
    }
   ],
   "source": [
    "n_missing_prices = reviews.price.isnull().sum()\n",
    "\n",
    "# Check your answer\n",
    "q3.check()"
   ]
  },
  {
   "cell_type": "code",
   "execution_count": 7,
   "id": "4b0c1b69",
   "metadata": {
    "execution": {
     "iopub.execute_input": "2024-01-17T09:43:35.674073Z",
     "iopub.status.busy": "2024-01-17T09:43:35.673581Z",
     "iopub.status.idle": "2024-01-17T09:43:35.679138Z",
     "shell.execute_reply": "2024-01-17T09:43:35.677915Z"
    },
    "papermill": {
     "duration": 0.018006,
     "end_time": "2024-01-17T09:43:35.682282",
     "exception": false,
     "start_time": "2024-01-17T09:43:35.664276",
     "status": "completed"
    },
    "tags": []
   },
   "outputs": [],
   "source": [
    "#q3.hint()\n",
    "#q3.solution()"
   ]
  },
  {
   "cell_type": "markdown",
   "id": "15b27e25",
   "metadata": {
    "papermill": {
     "duration": 0.00707,
     "end_time": "2024-01-17T09:43:35.697015",
     "exception": false,
     "start_time": "2024-01-17T09:43:35.689945",
     "status": "completed"
    },
    "tags": []
   },
   "source": [
    "## 4.\n",
    "What are the most common wine-producing regions? Create a Series counting the number of times each value occurs in the `region_1` field. This field is often missing data, so replace missing values with `Unknown`. Sort in descending order.  Your output should look something like this:\n",
    "\n",
    "```\n",
    "Unknown                    21247\n",
    "Napa Valley                 4480\n",
    "                           ...  \n",
    "Bardolino Superiore            1\n",
    "Primitivo del Tarantino        1\n",
    "Name: region_1, Length: 1230, dtype: int64\n",
    "```"
   ]
  },
  {
   "cell_type": "code",
   "execution_count": 8,
   "id": "a6dae972",
   "metadata": {
    "execution": {
     "iopub.execute_input": "2024-01-17T09:43:35.714473Z",
     "iopub.status.busy": "2024-01-17T09:43:35.714006Z",
     "iopub.status.idle": "2024-01-17T09:43:35.811974Z",
     "shell.execute_reply": "2024-01-17T09:43:35.810713Z"
    },
    "papermill": {
     "duration": 0.111753,
     "end_time": "2024-01-17T09:43:35.816314",
     "exception": false,
     "start_time": "2024-01-17T09:43:35.704561",
     "status": "completed"
    },
    "tags": []
   },
   "outputs": [
    {
     "data": {
      "application/javascript": [
       "parent.postMessage({\"jupyterEvent\": \"custom.exercise_interaction\", \"data\": {\"outcomeType\": 1, \"valueTowardsCompletion\": 0.25, \"interactionType\": 1, \"questionType\": 2, \"questionId\": \"4_ReviewsPerRegion\", \"learnToolsVersion\": \"0.3.4\", \"failureMessage\": \"\", \"exceptionClass\": \"\", \"trace\": \"\"}}, \"*\")"
      ],
      "text/plain": [
       "<IPython.core.display.Javascript object>"
      ]
     },
     "metadata": {},
     "output_type": "display_data"
    },
    {
     "data": {
      "text/markdown": [
       "<span style=\"color:#33cc33\">Correct</span>"
      ],
      "text/plain": [
       "Correct"
      ]
     },
     "metadata": {},
     "output_type": "display_data"
    }
   ],
   "source": [
    "reviews_per_region = reviews.region_1.fillna('Unknow').value_counts().sort_values(ascending=False)\n",
    "# Check your answer\n",
    "q4.check()"
   ]
  },
  {
   "cell_type": "code",
   "execution_count": 9,
   "id": "7c529def",
   "metadata": {
    "execution": {
     "iopub.execute_input": "2024-01-17T09:43:35.838049Z",
     "iopub.status.busy": "2024-01-17T09:43:35.837494Z",
     "iopub.status.idle": "2024-01-17T09:43:35.847767Z",
     "shell.execute_reply": "2024-01-17T09:43:35.846256Z"
    },
    "papermill": {
     "duration": 0.023362,
     "end_time": "2024-01-17T09:43:35.850446",
     "exception": false,
     "start_time": "2024-01-17T09:43:35.827084",
     "status": "completed"
    },
    "tags": []
   },
   "outputs": [
    {
     "data": {
      "application/javascript": [
       "parent.postMessage({\"jupyterEvent\": \"custom.exercise_interaction\", \"data\": {\"interactionType\": 3, \"questionType\": 2, \"questionId\": \"4_ReviewsPerRegion\", \"learnToolsVersion\": \"0.3.4\", \"valueTowardsCompletion\": 0.0, \"failureMessage\": \"\", \"exceptionClass\": \"\", \"trace\": \"\", \"outcomeType\": 4}}, \"*\")"
      ],
      "text/plain": [
       "<IPython.core.display.Javascript object>"
      ]
     },
     "metadata": {},
     "output_type": "display_data"
    },
    {
     "data": {
      "text/markdown": [
       "<span style=\"color:#33cc99\">Solution:</span> \n",
       "```python\n",
       "reviews_per_region = reviews.region_1.fillna('Unknown').value_counts().sort_values(ascending=False)\n",
       "```"
      ],
      "text/plain": [
       "Solution: \n",
       "```python\n",
       "reviews_per_region = reviews.region_1.fillna('Unknown').value_counts().sort_values(ascending=False)\n",
       "```"
      ]
     },
     "metadata": {},
     "output_type": "display_data"
    }
   ],
   "source": [
    "#q4.hint()\n",
    "q4.solution()"
   ]
  },
  {
   "cell_type": "markdown",
   "id": "cafebeb8",
   "metadata": {
    "papermill": {
     "duration": 0.008437,
     "end_time": "2024-01-17T09:43:35.867333",
     "exception": false,
     "start_time": "2024-01-17T09:43:35.858896",
     "status": "completed"
    },
    "tags": []
   },
   "source": [
    "# Keep going\n",
    "\n",
    "Move on to **[renaming and combining](https://www.kaggle.com/residentmario/renaming-and-combining)**."
   ]
  },
  {
   "cell_type": "markdown",
   "id": "0f06847d",
   "metadata": {
    "papermill": {
     "duration": 0.00826,
     "end_time": "2024-01-17T09:43:35.884276",
     "exception": false,
     "start_time": "2024-01-17T09:43:35.876016",
     "status": "completed"
    },
    "tags": []
   },
   "source": [
    "---\n",
    "\n",
    "\n",
    "\n",
    "\n",
    "*Have questions or comments? Visit the [course discussion forum](https://www.kaggle.com/learn/pandas/discussion) to chat with other learners.*"
   ]
  }
 ],
 "metadata": {
  "kaggle": {
   "accelerator": "none",
   "dataSources": [
    {
     "datasetId": 655,
     "sourceId": 1252,
     "sourceType": "datasetVersion"
    },
    {
     "datasetId": 2321,
     "sourceId": 3919,
     "sourceType": "datasetVersion"
    },
    {
     "datasetId": 2894,
     "sourceId": 4877,
     "sourceType": "datasetVersion"
    },
    {
     "datasetId": 3491,
     "sourceId": 5624,
     "sourceType": "datasetVersion"
    },
    {
     "datasetId": 1442,
     "sourceId": 8172,
     "sourceType": "datasetVersion"
    },
    {
     "datasetId": 9366,
     "sourceId": 13206,
     "sourceType": "datasetVersion"
    },
    {
     "datasetId": 179555,
     "sourceId": 403916,
     "sourceType": "datasetVersion"
    },
    {
     "datasetId": 4549,
     "sourceId": 466349,
     "sourceType": "datasetVersion"
    },
    {
     "datasetId": 2478,
     "sourceId": 1151655,
     "sourceType": "datasetVersion"
    },
    {
     "datasetId": 10128,
     "sourceId": 5438389,
     "sourceType": "datasetVersion"
    }
   ],
   "isGpuEnabled": false,
   "isInternetEnabled": false,
   "language": "python",
   "sourceType": "notebook"
  },
  "kernelspec": {
   "display_name": "Python 3",
   "language": "python",
   "name": "python3"
  },
  "language_info": {
   "codemirror_mode": {
    "name": "ipython",
    "version": 3
   },
   "file_extension": ".py",
   "mimetype": "text/x-python",
   "name": "python",
   "nbconvert_exporter": "python",
   "pygments_lexer": "ipython3",
   "version": "3.10.12"
  },
  "papermill": {
   "default_parameters": {},
   "duration": 9.373165,
   "end_time": "2024-01-17T09:43:36.720085",
   "environment_variables": {},
   "exception": null,
   "input_path": "__notebook__.ipynb",
   "output_path": "__notebook__.ipynb",
   "parameters": {},
   "start_time": "2024-01-17T09:43:27.346920",
   "version": "2.4.0"
  }
 },
 "nbformat": 4,
 "nbformat_minor": 5
}
